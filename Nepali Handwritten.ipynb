{
 "cells": [
  {
   "cell_type": "code",
   "execution_count": 24,
   "id": "340ddb26",
   "metadata": {},
   "outputs": [],
   "source": [
    "import os\n",
    "import cv2\n",
    "import time\n",
    "import random\n",
    "import numpy as np\n",
    "import tensorflow as tf\n",
    "import matplotlib.pyplot as plt\n",
    "import tensorflow.keras.layers as tfl\n",
    "from tensorflow.keras.models import Sequential"
   ]
  },
  {
   "cell_type": "code",
   "execution_count": 2,
   "id": "c7161b8d",
   "metadata": {},
   "outputs": [],
   "source": [
    "Classes = ['ana', 'ath', 'ba', 'bha', 'cha', 'char', 'chha', 'chhyya', 'da', 'dda', 'ddha', 'dha', 'dui', 'ek', 'ga', 'gha', 'gya', 'ha', 'ja', 'jha', 'ka', 'kha',\n",
    "           'kna', 'la', 'ma', 'na', 'nau', 'pa', 'pach', 'pha', 'ra', 'sat', 'sha1', 'sha2', 'sha3', 'sunya', 'ta', 'tha', 'tin', 'tra', 'tta', 'ttha', 'wo', 'xa', 'ya', 'yan']"
   ]
  },
  {
   "cell_type": "code",
   "execution_count": 3,
   "id": "eb3f04ed",
   "metadata": {},
   "outputs": [],
   "source": [
    "data = []\n",
    "Datadirectory = \"dataset/Train\"\n",
    "def create_data():\n",
    "    for category in Classes:\n",
    "        path = os.path.join(Datadirectory,category)\n",
    "        class_num = Classes.index(category)\n",
    "        for img in os.listdir(path):\n",
    "            try:\n",
    "                img_array = cv2.imread(os.path.join(path,img),cv2.IMREAD_GRAYSCALE)\n",
    "                data.append([img_array,class_num])\n",
    "            except Exception as e:\n",
    "                pass"
   ]
  },
  {
   "cell_type": "code",
   "execution_count": 4,
   "id": "b40b30ea",
   "metadata": {},
   "outputs": [],
   "source": [
    "create_data()"
   ]
  },
  {
   "cell_type": "code",
   "execution_count": 5,
   "id": "ea6ce652",
   "metadata": {},
   "outputs": [
    {
     "name": "stdout",
     "output_type": "stream",
     "text": [
      "78200\n"
     ]
    }
   ],
   "source": [
    "print(len(data))"
   ]
  },
  {
   "cell_type": "code",
   "execution_count": 6,
   "id": "cd8b39c1",
   "metadata": {},
   "outputs": [],
   "source": [
    "random.shuffle(data)"
   ]
  },
  {
   "cell_type": "code",
   "execution_count": 7,
   "id": "d24a8c0b",
   "metadata": {},
   "outputs": [],
   "source": [
    "X = []\n",
    "Y = []\n",
    "\n",
    "for features,label in data:\n",
    "    X.append(features)\n",
    "    Y.append(label)"
   ]
  },
  {
   "cell_type": "code",
   "execution_count": 8,
   "id": "0802fe19",
   "metadata": {},
   "outputs": [
    {
     "name": "stdout",
     "output_type": "stream",
     "text": [
      "(78200, 32, 32)\n",
      "(78200,)\n"
     ]
    }
   ],
   "source": [
    "X = np.array(X)\n",
    "Y = np.array(Y)\n",
    "print(X.shape)\n",
    "print(Y.shape)"
   ]
  },
  {
   "cell_type": "code",
   "execution_count": 9,
   "id": "f7e82882",
   "metadata": {},
   "outputs": [
    {
     "data": {
      "text/plain": [
       "<matplotlib.image.AxesImage at 0x1f27c967940>"
      ]
     },
     "execution_count": 9,
     "metadata": {},
     "output_type": "execute_result"
    },
    {
     "data": {
      "image/png": "[encoded data removed]",
      "text/plain": [
       "<Figure size 432x288 with 1 Axes>"
      ]
     },
     "metadata": {
      "needs_background": "light"
     },
     "output_type": "display_data"
    }
   ],
   "source": [
    "plt.imshow(X[0],cmap=plt.cm.binary)"
   ]
  },
  {
   "cell_type": "code",
   "execution_count": 10,
   "id": "c5ad0db0",
   "metadata": {},
   "outputs": [],
   "source": [
    "X = tf.keras.utils.normalize(X,axis=1)"
   ]
  },
  {
   "cell_type": "code",
   "execution_count": 11,
   "id": "4ec9e9f8",
   "metadata": {},
   "outputs": [
    {
     "data": {
      "text/plain": [
       "<matplotlib.image.AxesImage at 0x1f27ca444f0>"
      ]
     },
     "execution_count": 11,
     "metadata": {},
     "output_type": "execute_result"
    },
    {
     "data": {
      "image/png": "[encoded data removed]",
      "text/plain": [
       "<Figure size 432x288 with 1 Axes>"
      ]
     },
     "metadata": {
      "needs_background": "light"
     },
     "output_type": "display_data"
    }
   ],
   "source": [
    "plt.imshow(X[0],cmap = plt.cm.binary)"
   ]
  },
  {
   "cell_type": "code",
   "execution_count": 12,
   "id": "272f62ee",
   "metadata": {},
   "outputs": [
    {
     "name": "stdout",
     "output_type": "stream",
     "text": [
      "36\n",
      "ta\n"
     ]
    }
   ],
   "source": [
    "print(Y[0])\n",
    "print(Classes[Y[0]])"
   ]
  },
  {
   "cell_type": "code",
   "execution_count": 13,
   "id": "b798638b",
   "metadata": {},
   "outputs": [
    {
     "name": "stdout",
     "output_type": "stream",
     "text": [
      "(78200, 32, 32, 1)\n"
     ]
    }
   ],
   "source": [
    "IMG_SIZE = 32\n",
    "X = np.array(X).reshape(-1,IMG_SIZE,IMG_SIZE,1)\n",
    "print(X.shape)"
   ]
  },
  {
   "cell_type": "code",
   "execution_count": 21,
   "id": "0cbba62f",
   "metadata": {},
   "outputs": [],
   "source": [
    "model = Sequential([\n",
    "    tfl.Conv2D(filters= 32 ,kernel_size =3,input_shape = X.shape[1:]),\n",
    "    tfl.ReLU(),\n",
    "    tfl.Conv2D(filters= 32 ,kernel_size =3),\n",
    "    tfl.ReLU(),\n",
    "    tfl.MaxPool2D(),\n",
    "    tfl.Dropout(0.25),\n",
    "    \n",
    "    tfl.Conv2D(filters= 64 ,kernel_size =3),\n",
    "    tfl.ReLU(),\n",
    "    tfl.Conv2D(filters= 64 ,kernel_size =3),\n",
    "    tfl.ReLU(),\n",
    "    tfl.MaxPool2D(),\n",
    "    tfl.Dropout(0.25),\n",
    "    \n",
    "    tfl.Flatten(),\n",
    "    tfl.Dense(256,activation='relu'),\n",
    "    tfl.Dropout(0.5),\n",
    "    tfl.Dense(46,activation='softmax')  \n",
    "])"
   ]
  },
  {
   "cell_type": "code",
   "execution_count": 22,
   "id": "cbf3bf7e",
   "metadata": {},
   "outputs": [
    {
     "name": "stdout",
     "output_type": "stream",
     "text": [
      "Model: \"sequential_3\"\n",
      "_________________________________________________________________\n",
      " Layer (type)                Output Shape              Param #   \n",
      "=================================================================\n",
      " conv2d_7 (Conv2D)           (None, 30, 30, 32)        320       \n",
      "                                                                 \n",
      " re_lu_7 (ReLU)              (None, 30, 30, 32)        0         \n",
      "                                                                 \n",
      " conv2d_8 (Conv2D)           (None, 28, 28, 32)        9248      \n",
      "                                                                 \n",
      " re_lu_8 (ReLU)              (None, 28, 28, 32)        0         \n",
      "                                                                 \n",
      " max_pooling2d_7 (MaxPooling  (None, 14, 14, 32)       0         \n",
      " 2D)                                                             \n",
      "                                                                 \n",
      " dropout_1 (Dropout)         (None, 14, 14, 32)        0         \n",
      "                                                                 \n",
      " conv2d_9 (Conv2D)           (None, 12, 12, 64)        18496     \n",
      "                                                                 \n",
      " re_lu_9 (ReLU)              (None, 12, 12, 64)        0         \n",
      "                                                                 \n",
      " conv2d_10 (Conv2D)          (None, 10, 10, 64)        36928     \n",
      "                                                                 \n",
      " re_lu_10 (ReLU)             (None, 10, 10, 64)        0         \n",
      "                                                                 \n",
      " max_pooling2d_8 (MaxPooling  (None, 5, 5, 64)         0         \n",
      " 2D)                                                             \n",
      "                                                                 \n",
      " dropout_2 (Dropout)         (None, 5, 5, 64)          0         \n",
      "                                                                 \n",
      " flatten_3 (Flatten)         (None, 1600)              0         \n",
      "                                                                 \n",
      " dense_6 (Dense)             (None, 256)               409856    \n",
      "                                                                 \n",
      " dropout_3 (Dropout)         (None, 256)               0         \n",
      "                                                                 \n",
      " dense_7 (Dense)             (None, 46)                11822     \n",
      "                                                                 \n",
      "=================================================================\n",
      "Total params: 486,670\n",
      "Trainable params: 486,670\n",
      "Non-trainable params: 0\n",
      "_________________________________________________________________\n"
     ]
    }
   ],
   "source": [
    "model.summary()"
   ]
  },
  {
   "cell_type": "code",
   "execution_count": 23,
   "id": "d9630468",
   "metadata": {},
   "outputs": [],
   "source": [
    "model.compile(loss=\"sparse_categorical_crossentropy\",optimizer=\"adam\",metrics=['accuracy'])"
   ]
  },
  {
   "cell_type": "code",
   "execution_count": 25,
   "id": "197faada",
   "metadata": {},
   "outputs": [
    {
     "name": "stdout",
     "output_type": "stream",
     "text": [
      "Epoch 1/10\n",
      "978/978 [==============================] - 144s 146ms/step - loss: 1.1468 - accuracy: 0.6749 - val_loss: 0.2487 - val_accuracy: 0.9246\n",
      "Epoch 2/10\n",
      "978/978 [==============================] - 151s 154ms/step - loss: 0.3779 - accuracy: 0.8851 - val_loss: 0.1390 - val_accuracy: 0.9582\n",
      "Epoch 3/10\n",
      "978/978 [==============================] - 152s 155ms/step - loss: 0.2600 - accuracy: 0.9191 - val_loss: 0.1102 - val_accuracy: 0.9654\n",
      "Epoch 4/10\n",
      "978/978 [==============================] - 145s 148ms/step - loss: 0.2054 - accuracy: 0.9362 - val_loss: 0.0875 - val_accuracy: 0.9746\n",
      "Epoch 5/10\n",
      "978/978 [==============================] - 153s 156ms/step - loss: 0.1675 - accuracy: 0.9468 - val_loss: 0.0762 - val_accuracy: 0.9770\n",
      "Epoch 6/10\n",
      "978/978 [==============================] - 152s 156ms/step - loss: 0.1469 - accuracy: 0.9530 - val_loss: 0.0693 - val_accuracy: 0.9807\n",
      "Epoch 7/10\n",
      "978/978 [==============================] - 149s 152ms/step - loss: 0.1272 - accuracy: 0.9593 - val_loss: 0.0670 - val_accuracy: 0.9806\n",
      "Epoch 8/10\n",
      "978/978 [==============================] - 147s 150ms/step - loss: 0.1161 - accuracy: 0.9624 - val_loss: 0.0621 - val_accuracy: 0.9812\n",
      "Epoch 9/10\n",
      "978/978 [==============================] - 149s 153ms/step - loss: 0.1046 - accuracy: 0.9668 - val_loss: 0.0586 - val_accuracy: 0.9837\n",
      "Epoch 10/10\n",
      "978/978 [==============================] - 152s 155ms/step - loss: 0.0972 - accuracy: 0.9686 - val_loss: 0.0631 - val_accuracy: 0.9829\n",
      "Training time:  24.89498242934545 min\n"
     ]
    }
   ],
   "source": [
    "start = time.time()\n",
    "model.fit(X,Y,epochs=10,validation_split=0.2,batch_size=64)\n",
    "end = time.time()\n",
    "print(\"Training time: \",(end-start)/60,\"min\")"
   ]
  }
 ],
 "metadata": {
  "kernelspec": {
   "display_name": "Python 3 (ipykernel)",
   "language": "python",
   "name": "python3"
  },
  "language_info": {
   "codemirror_mode": {
    "name": "ipython",
    "version": 3
   },
   "file_extension": ".py",
   "mimetype": "text/x-python",
   "name": "python",
   "nbconvert_exporter": "python",
   "pygments_lexer": "ipython3",
   "version": "3.10.0"
  }
 },
 "nbformat": 4,
 "nbformat_minor": 5
}
